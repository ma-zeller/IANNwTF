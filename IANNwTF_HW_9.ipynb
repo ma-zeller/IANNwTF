{
  "cells": [
    {
      "cell_type": "markdown",
      "metadata": {
        "id": "view-in-github",
        "colab_type": "text"
      },
      "source": [
        "<a href=\"https://colab.research.google.com/github/ma-zeller/IANNwTF/blob/main/IANNwTF_HW_9.ipynb\" target=\"_parent\"><img src=\"https://colab.research.google.com/assets/colab-badge.svg\" alt=\"Open In Colab\"/></a>"
      ]
    },
    {
      "cell_type": "code",
      "execution_count": null,
      "metadata": {
        "colab": {
          "base_uri": "https://localhost:8080/"
        },
        "id": "ZtSksa0QgRa2",
        "outputId": "4322973b-9b0b-4f34-bd8f-bec7ba7b551c"
      },
      "outputs": [
        {
          "name": "stdout",
          "output_type": "stream",
          "text": [
            "The tensorboard extension is already loaded. To reload it, use:\n",
            "  %reload_ext tensorboard\n"
          ]
        }
      ],
      "source": [
        "import tensorflow as tf\n",
        "import tensorflow_datasets as tfds   \n",
        "from tensorflow.keras import layers\n",
        "from tensorflow.keras.utils import Progbar\n",
        "from copy import deepcopy\n",
        "from matplotlib import pyplot as plt\n",
        "import numpy as np\n",
        "import math\n",
        "import datetime\n",
        "import os\n",
        "import glob\n",
        "import imageio\n",
        "import PIL\n",
        "import time\n",
        "\n",
        "from IPython import display\n",
        "\n",
        "%load_ext tensorboard"
      ]
    },
    {
      "cell_type": "markdown",
      "metadata": {
        "id": "8KBZAK54caLN"
      },
      "source": [
        "*   make optimizer a hyperparameter\n",
        "*   disable batch norm while generating images\n",
        "*   rethink upscaling\n",
        "\n"
      ]
    },
    {
      "cell_type": "markdown",
      "metadata": {
        "id": "q4xHTPfdKNgz"
      },
      "source": [
        "**1. Create Dataset**\n"
      ]
    },
    {
      "cell_type": "code",
      "execution_count": null,
      "metadata": {
        "colab": {
          "base_uri": "https://localhost:8080/"
        },
        "id": "-p0dV7hNKF3-",
        "outputId": "813b796b-ab1c-4fd2-ac38-b15ca5426c9c"
      },
      "outputs": [
        {
          "name": "stdout",
          "output_type": "stream",
          "text": [
            "[b'aircraft carrier', b'airplane', b'alarm clock', b'ambulance', b'angel', b'animal migration', b'ant', b'anvil', b'apple', b'arm']\n"
          ]
        }
      ],
      "source": [
        "import urllib\n",
        "categories = [line.rstrip(b'\\n') for line in urllib.request.urlopen('https://raw.githubusercontent.com/googlecreativelab/quickdraw-dataset/master/categories.txt')]\n",
        "print(categories[:10])\n",
        "category = 'candle'"
      ]
    },
    {
      "cell_type": "code",
      "execution_count": null,
      "metadata": {
        "colab": {
          "base_uri": "https://localhost:8080/"
        },
        "id": "ziAC5zQOKMhc",
        "outputId": "a17ac298-0df1-4447-d747-7362e19cbf8e"
      },
      "outputs": [
        {
          "name": "stdout",
          "output_type": "stream",
          "text": [
            "141545 images to train on\n"
          ]
        }
      ],
      "source": [
        "# Creates a folder to download the original drawings into.\n",
        "# We chose to use the numpy format : 1x784 pixel vectors, with values going from 0 (white) to 255 (black). We reshape them later to 28x28 grids and normalize the pixel intensity to [-1, 1]\n",
        "\n",
        "if not os.path.isdir('npy_files'):\n",
        "    os.mkdir('npy_files')\n",
        "    \n",
        "url = f'https://storage.googleapis.com/quickdraw_dataset/full/numpy_bitmap/{category}.npy'  \n",
        "urllib.request.urlretrieve(url, f'npy_files/{category}.npy')\n",
        "\n",
        "images = np.load(f'npy_files/{category}.npy')\n",
        "print(f'{len(images)} images to train on')"
      ]
    },
    {
      "cell_type": "code",
      "execution_count": null,
      "metadata": {
        "id": "ll7pY4HgK36l"
      },
      "outputs": [],
      "source": [
        "train_ds = tf.data.Dataset.from_tensor_slices(images[:30000])\n",
        "test_ds = tf.data.Dataset.from_tensor_slices(images[30000:40000])"
      ]
    },
    {
      "cell_type": "code",
      "execution_count": null,
      "metadata": {
        "id": "-i0PekQeyV2Q"
      },
      "outputs": [],
      "source": [
        "# # test with MNIST\n",
        "# ( train_ds , test_ds ), ds_info = tfds.load(\"mnist\", split =[ \"train\", \"test\"], as_supervised =True , with_info = True)\n",
        "# train_ds = train_ds.map(lambda img, label: (img))\n",
        "# test_ds = test_ds.map(lambda img, label: (img))"
      ]
    },
    {
      "cell_type": "code",
      "execution_count": null,
      "metadata": {
        "id": "X2Ngq4g1ijWU"
      },
      "outputs": [],
      "source": [
        "# Define hyperparamaters\n",
        "epochs = 20\n",
        "batch_size = 32\n",
        "droprate = 0.25\n",
        "gen_opt = tf.keras.optimizers.Adam(0.01)\n",
        "disc_opt = tf.keras.optimizers.Adam(0.01)\n",
        "ls_size = 100\n",
        "assert np.sqrt(ls_size)%2==0 or (np.sqrt(ls_size)+1)%2==0"
      ]
    },
    {
      "cell_type": "code",
      "execution_count": null,
      "metadata": {
        "id": "CAHoVPAAiNzZ"
      },
      "outputs": [],
      "source": [
        "def ds_preprocess(ds):\n",
        "\n",
        "    # cast\n",
        "    ds = ds.map(lambda img: (tf.cast(img,tf.float32)))\n",
        "\n",
        "    # reshape\n",
        "    ds = ds.map(lambda img: (tf.reshape(img,(28,28,1))))\n",
        "    \n",
        "    # normalize images between range (-1,1)\n",
        "    ds = ds.map(lambda img: ((img/128)-1))\n",
        "\n",
        "    # shuffle\n",
        "    ds = ds.shuffle(10000)\n",
        "\n",
        "    # batch\n",
        "    ds = ds.batch(batch_size)\n",
        "\n",
        "    # prefetch\n",
        "    ds = ds.prefetch(batch_size)\n",
        "    \n",
        "    return ds"
      ]
    },
    {
      "cell_type": "code",
      "execution_count": null,
      "metadata": {
        "id": "CdGMn8YGjH6t"
      },
      "outputs": [],
      "source": [
        "# apply perprocessing\n",
        "train_dataset = train_ds.apply(ds_preprocess)\n",
        "test_dataset = test_ds.apply(ds_preprocess)"
      ]
    },
    {
      "cell_type": "code",
      "execution_count": null,
      "metadata": {
        "colab": {
          "base_uri": "https://localhost:8080/",
          "height": 281
        },
        "id": "BnGRRJhmhEpe",
        "outputId": "46f8fe78-2d4d-4dc9-bdbb-dfb92b51903d"
      },
      "outputs": [
        {
          "data": {
            "image/png": "[encoded data removed]",
            "text/plain": [
              "<Figure size 432x288 with 1 Axes>"
            ]
          },
          "metadata": {},
          "output_type": "display_data"
        }
      ],
      "source": [
        "# show examples\n",
        "\n",
        "for img in train_dataset:\n",
        "  candle = img[0].numpy().reshape(28,28)\n",
        "  plt.imshow(candle)\n",
        "  plt.title(f\"Min: {candle.min()} / Max: {candle.max()}\")\n",
        "  break"
      ]
    },
    {
      "cell_type": "code",
      "execution_count": null,
      "metadata": {
        "id": "9TVuQHUDi_J1"
      },
      "outputs": [],
      "source": [
        "class DiscriminatorCNN(tf.keras.Model):\n",
        "    def __init__(self):\n",
        "        super(DiscriminatorCNN,self).__init__()\n",
        "\n",
        "        # Downsample\n",
        "        self.s_b_1 = tf.keras.layers.Conv2D(filters=1,kernel_size=3,padding=\"valid\",strides=2,activation=tf.keras.layers.LeakyReLU(alpha=0.01))\n",
        "\n",
        "        # Dropout\n",
        "        self.do_1 = tf.keras.layers.Dropout(droprate)\n",
        "\n",
        "        # Downsample\n",
        "        self.s_b_2 = tf.keras.layers.Conv2D(filters=1,kernel_size=3,padding=\"valid\",strides=2,activation=tf.keras.layers.LeakyReLU(alpha=0.01))\n",
        "\n",
        "        # Dropout\n",
        "        self.do_2 = tf.keras.layers.Dropout(droprate)\n",
        "\n",
        "        # Fully connected \n",
        "        self.f1 = tf.keras.layers.Flatten()\n",
        "        self.out = tf.keras.layers.Dense(1)#,activation=\"sigmoid\")\n",
        "\n",
        "        # Loss function (from logits correct?)\n",
        "        self.loss = tf.keras.losses.BinaryCrossentropy(from_logits=True)\n",
        "\n",
        "    @tf.function\n",
        "    def call(self,x):\n",
        "\n",
        "        # print(f\"Discriminator Input: {x.shape}\")\n",
        "\n",
        "        x = self.s_b_1(x)\n",
        "        x = self.do_1(x)\n",
        "        # print(f\"Discriminator DS1: {x.shape}\")\n",
        "\n",
        "        x = self.s_b_2(x)\n",
        "        x = self.do_2(x)\n",
        "        # print(f\"Discriminator DS3: {x.shape}\")\n",
        "\n",
        "        x = self.f1(x)\n",
        "        # print(f\"Discriminator FC1: {x.shape}\")\n",
        "\n",
        "        x = self.out(x)\n",
        "        # print(f\"Discriminator OUT: {x.shape}\")\n",
        "\n",
        "        return x  \n",
        "    \n",
        "    def discriminator_loss(self,real_output, fake_output):\n",
        "        real_loss = self.loss(tf.ones_like(real_output), real_output)\n",
        "        fake_loss = self.loss(tf.zeros_like(fake_output), fake_output)\n",
        "        total_loss = real_loss + fake_loss\n",
        "        \n",
        "        return total_loss\n",
        "\n",
        "class GeneratorCNN(tf.keras.Model):\n",
        "    def __init__(self):\n",
        "        super(GeneratorCNN,self).__init__()\n",
        "\n",
        "        # Reshape\n",
        "        self.rs_1 = tf.keras.layers.Reshape((int(np.sqrt(ls_size)),int(np.sqrt(ls_size)),1))\n",
        "\n",
        "        # Upsampling Layers (still hardcoded depening on latent space size, also probably not optimal)\n",
        "        self.us_1 = tf.keras.layers.Conv2DTranspose(filters=1,kernel_size=5,padding=\"valid\",strides=2,activation=tf.keras.layers.LeakyReLU(alpha=0.01),output_padding=1)\n",
        "        self.us_2 = tf.keras.layers.Conv2DTranspose(filters=1,kernel_size=5,padding=\"valid\",strides=1,activation=tf.keras.layers.LeakyReLU(alpha=0.01),output_padding=0)\n",
        "\n",
        "        # BN Layers\n",
        "        self.bn_1 = tf.keras.layers.BatchNormalization()\n",
        "        self.bn_2 = tf.keras.layers.BatchNormalization()\n",
        "\n",
        "        # Out\n",
        "        self.out = tf.keras.layers.Conv2D(filters=1,kernel_size=1,activation=\"tanh\")\n",
        "\n",
        "        # Loss function (from logits correct?)\n",
        "        self.loss = tf.keras.losses.BinaryCrossentropy(from_logits=True)\n",
        "\n",
        "    @tf.function\n",
        "    def call(self,x,training=None):\n",
        "\n",
        "        x = self.rs_1(x)\n",
        "        # print(f\"Generator Reshape: {x.shape}\")\n",
        "\n",
        "        x = self.us_1(x)\n",
        "        if training == None:\n",
        "          x = self.bn_1(x) \n",
        "        # print(f\"Generator US1: {x.shape}\")\n",
        "        \n",
        "        x = self.us_2(x)\n",
        "        if training == None:\n",
        "          x = self.bn_2(x)\n",
        "        # print(f\"Generator US2: {x.shape}\")\n",
        "        \n",
        "        x = self.out(x)\n",
        "        # print(f\"Generator out: {x.shape}\")\n",
        "\n",
        "        return x\n",
        "\n",
        "    def generator_loss(self,fake_output):\n",
        "        return self.loss(tf.ones_like(fake_output), fake_output)\n",
        "        \n",
        "\n",
        "class GAN(tf.keras.Model):\n",
        "    def __init__(self):\n",
        "        super(GAN,self).__init__()\n",
        "\n",
        "        self.generator = GeneratorCNN()\n",
        "        self.discriminator = DiscriminatorCNN()\n",
        "\n",
        "        self.generator_optimizer = gen_opt\n",
        "        self.discriminator_optimizer = disc_opt\n",
        "\n",
        "    @tf.function\n",
        "    def call(self,images):\n",
        "\n",
        "      # generate ls_vector from noise [bs,ls_size]\n",
        "      noise = tf.random.normal((batch_size,ls_size))\n",
        "\n",
        "      # feed noise to generator\n",
        "      generator_out = self.generator(noise)\n",
        "\n",
        "      # feed fake images to discriminator\n",
        "      discriminator_fake_img = self.discriminator(generator_out)\n",
        "\n",
        "      # feed real images to discriminator\n",
        "      discriminator_real_img = self.discriminator(images)\n",
        "\n",
        "      return discriminator_real_img, discriminator_fake_img\n",
        "\n",
        "    @tf.function\n",
        "    def train_step(self,images):\n",
        "\n",
        "        with tf.GradientTape() as gen_tape, tf.GradientTape() as disc_tape:\n",
        "\n",
        "          # get required outputs from gen and disc\n",
        "          disc_real, disc_fake  = model(images)\n",
        "\n",
        "          # get respective losses\n",
        "          gen_loss = self.generator.generator_loss(disc_fake)\n",
        "          disc_loss = self.discriminator.discriminator_loss(disc_real, disc_fake)\n",
        "\n",
        "        # update\n",
        "        gradients_of_generator = gen_tape.gradient(gen_loss, self.generator.trainable_variables)\n",
        "        gradients_of_discriminator = disc_tape.gradient(disc_loss, self.discriminator.trainable_variables)\n",
        "\n",
        "        self.generator_optimizer.apply_gradients(zip(gradients_of_generator, self.generator.trainable_variables))\n",
        "        self.discriminator_optimizer.apply_gradients(zip(gradients_of_discriminator, self.discriminator.trainable_variables))\n",
        "\n",
        "        return gen_loss, disc_loss"
      ]
    },
    {
      "cell_type": "code",
      "execution_count": null,
      "metadata": {
        "id": "SsitM5Zackz0"
      },
      "outputs": [],
      "source": [
        "# # instatiate for tests\n",
        "# gen = GeneratorCNN()\n",
        "# disc = DiscriminatorCNN()"
      ]
    },
    {
      "cell_type": "code",
      "execution_count": null,
      "metadata": {
        "id": "YSpG4x9KcomG"
      },
      "outputs": [],
      "source": [
        "# # test generator\n",
        "# gen_img = gen(tf.random.normal((batch_size,ls_size)))\n",
        "# plt.imshow(gen_img[1].numpy().reshape(28,28))"
      ]
    },
    {
      "cell_type": "code",
      "execution_count": null,
      "metadata": {
        "id": "YoIOIGNGe4ea"
      },
      "outputs": [],
      "source": [
        "# # test discriminator\n",
        "# out_disc = disc(gen_img)\n",
        "# print(out_disc.shape)"
      ]
    },
    {
      "cell_type": "code",
      "execution_count": null,
      "metadata": {
        "colab": {
          "base_uri": "https://localhost:8080/"
        },
        "id": "oX2n93BXrWjN",
        "outputId": "fe2a012b-49a0-44ab-9af6-a27fbeb098f6"
      },
      "outputs": [
        {
          "name": "stdout",
          "output_type": "stream",
          "text": [
            "Model: \"gan_3\"\n",
            "_________________________________________________________________\n",
            " Layer (type)                Output Shape              Param #   \n",
            "=================================================================\n",
            " generator_cnn_3 (GeneratorC  multiple                 54        \n",
            " NN)                                                             \n",
            "                                                                 \n",
            " discriminator_cnn_3 (Discri  multiple                 57        \n",
            " minatorCNN)                                                     \n",
            "                                                                 \n",
            "=================================================================\n",
            "Total params: 111\n",
            "Trainable params: 111\n",
            "Non-trainable params: 0\n",
            "_________________________________________________________________\n"
          ]
        }
      ],
      "source": [
        "# instantiate GAN model\n",
        "model = GAN()\n",
        "model.build((batch_size,28,28,1))\n",
        "model.summary()"
      ]
    },
    {
      "cell_type": "code",
      "execution_count": null,
      "metadata": {
        "id": "dGHz8D_usB51"
      },
      "outputs": [],
      "source": [
        "# Logging\n",
        "config_name= \"IANNwTF_HW9\"\n",
        "current_time = datetime.datetime.now().strftime(\"%Y%m%d-%H%M%S\")\n",
        "\n",
        "gen_log_path = f\"logs/{config_name}/{current_time}/gen\"\n",
        "disc_log_path = f\"logs/{config_name}/{current_time}/disc\"\n",
        "\n",
        "# log writers for metrics\n",
        "gen_summary_writer = tf.summary.create_file_writer(gen_log_path)\n",
        "disc_summary_writer = tf.summary.create_file_writer(disc_log_path)\n",
        "\n",
        "# metrics\n",
        "loss_metric_gen = tf.keras.metrics.Mean(name=\"loss_gen\")\n",
        "loss_metric_disc = tf.keras.metrics.Mean(name=\"loss_disc\")"
      ]
    },
    {
      "cell_type": "code",
      "execution_count": null,
      "metadata": {
        "colab": {
          "background_save": true,
          "base_uri": "https://localhost:8080/",
          "height": 1000
        },
        "id": "eSwJaFzPsHPm",
        "outputId": "d8342bf0-b7c6-4a13-d08c-3233d34f7c2f"
      },
      "outputs": [
        {
          "name": "stdout",
          "output_type": "stream",
          "text": [
            "60000/60000 [==============================] - 15s 243us/step\n",
            "Gen loss at epoch 1: 2.1976242065429688\n",
            "Disc loss at epoch 1: 0.705208957195282\n",
            "\n"
          ]
        },
        {
          "data": {
            "image/png": "[encoded data removed]",
            "text/plain": [
              "<Figure size 432x288 with 1 Axes>"
            ]
          },
          "metadata": {},
          "output_type": "display_data"
        },
        {
          "name": "stdout",
          "output_type": "stream",
          "text": [
            "60000/60000 [==============================] - 13s 224us/step\n",
            "Gen loss at epoch 2: 1.937947154045105\n",
            "Disc loss at epoch 2: 0.7854890823364258\n",
            "\n"
          ]
        },
        {
          "data": {
            "image/png": "[encoded data removed]",
            "text/plain": [
              "<Figure size 432x288 with 1 Axes>"
            ]
          },
          "metadata": {},
          "output_type": "display_data"
        },
        {
          "name": "stdout",
          "output_type": "stream",
          "text": [
            "60000/60000 [==============================] - 13s 223us/step\n",
            "Gen loss at epoch 3: 1.8741204738616943\n",
            "Disc loss at epoch 3: 0.8341414332389832\n",
            "\n"
          ]
        },
        {
          "data": {
            "image/png": "[encoded data removed]",
            "text/plain": [
              "<Figure size 432x288 with 1 Axes>"
            ]
          },
          "metadata": {},
          "output_type": "display_data"
        },
        {
          "name": "stdout",
          "output_type": "stream",
          "text": [
            "60000/60000 [==============================] - 15s 249us/step\n",
            "Gen loss at epoch 4: 1.9242223501205444\n",
            "Disc loss at epoch 4: 0.8473604917526245\n",
            "\n"
          ]
        },
        {
          "data": {
            "image/png": "[encoded data removed]",
            "text/plain": [
              "<Figure size 432x288 with 1 Axes>"
            ]
          },
          "metadata": {},
          "output_type": "display_data"
        },
        {
          "name": "stdout",
          "output_type": "stream",
          "text": [
            "60000/60000 [==============================] - 13s 224us/step\n",
            "Gen loss at epoch 5: 1.924424648284912\n",
            "Disc loss at epoch 5: 0.8383130431175232\n",
            "\n"
          ]
        },
        {
          "data": {
            "image/png": "[encoded data removed]",
            "text/plain": [
              "<Figure size 432x288 with 1 Axes>"
            ]
          },
          "metadata": {},
          "output_type": "display_data"
        },
        {
          "name": "stdout",
          "output_type": "stream",
          "text": [
            "60000/60000 [==============================] - 14s 236us/step\n",
            "Gen loss at epoch 6: 1.9604547023773193\n",
            "Disc loss at epoch 6: 0.8269417881965637\n",
            "\n"
          ]
        },
        {
          "data": {
            "image/png": "[encoded data removed]",
            "text/plain": [
              "<Figure size 432x288 with 1 Axes>"
            ]
          },
          "metadata": {},
          "output_type": "display_data"
        },
        {
          "name": "stdout",
          "output_type": "stream",
          "text": [
            "60000/60000 [==============================] - 14s 225us/step\n",
            "Gen loss at epoch 7: 1.9771103858947754\n",
            "Disc loss at epoch 7: 0.8190038800239563\n",
            "\n"
          ]
        },
        {
          "data": {
            "image/png": "[encoded data removed]",
            "text/plain": [
              "<Figure size 432x288 with 1 Axes>"
            ]
          },
          "metadata": {},
          "output_type": "display_data"
        },
        {
          "name": "stdout",
          "output_type": "stream",
          "text": [
            "60000/60000 [==============================] - 14s 232us/step\n",
            "Gen loss at epoch 8: 1.9503577947616577\n",
            "Disc loss at epoch 8: 0.834993302822113\n",
            "\n"
          ]
        },
        {
          "data": {
            "image/png": "[encoded data removed]",
            "text/plain": [
              "<Figure size 432x288 with 1 Axes>"
            ]
          },
          "metadata": {},
          "output_type": "display_data"
        },
        {
          "name": "stdout",
          "output_type": "stream",
          "text": [
            "60000/60000 [==============================] - 13s 224us/step\n",
            "Gen loss at epoch 9: 1.975988745689392\n",
            "Disc loss at epoch 9: 0.8269720673561096\n",
            "\n"
          ]
        },
        {
          "data": {
            "image/png": "[encoded data removed]",
            "text/plain": [
              "<Figure size 432x288 with 1 Axes>"
            ]
          },
          "metadata": {},
          "output_type": "display_data"
        },
        {
          "name": "stdout",
          "output_type": "stream",
          "text": [
            "60000/60000 [==============================] - 14s 226us/step\n",
            "Gen loss at epoch 10: 2.0136051177978516\n",
            "Disc loss at epoch 10: 0.7896164059638977\n",
            "\n"
          ]
        },
        {
          "data": {
            "image/png": "[encoded data removed]",
            "text/plain": [
              "<Figure size 432x288 with 1 Axes>"
            ]
          },
          "metadata": {},
          "output_type": "display_data"
        },
        {
          "name": "stdout",
          "output_type": "stream",
          "text": [
            "60000/60000 [==============================] - 14s 226us/step\n",
            "Gen loss at epoch 11: 2.0170464515686035\n",
            "Disc loss at epoch 11: 0.822536826133728\n",
            "\n"
          ]
        },
        {
          "data": {
            "image/png": "[encoded data removed]",
            "text/plain": [
              "<Figure size 432x288 with 1 Axes>"
            ]
          },
          "metadata": {},
          "output_type": "display_data"
        },
        {
          "name": "stdout",
          "output_type": "stream",
          "text": [
            "60000/60000 [==============================] - 13s 223us/step\n",
            "Gen loss at epoch 12: 2.0275087356567383\n",
            "Disc loss at epoch 12: 0.8072183728218079\n",
            "\n"
          ]
        },
        {
          "data": {
            "image/png": "[encoded data removed]",
            "text/plain": [
              "<Figure size 432x288 with 1 Axes>"
            ]
          },
          "metadata": {},
          "output_type": "display_data"
        },
        {
          "name": "stdout",
          "output_type": "stream",
          "text": [
            "60000/60000 [==============================] - 13s 224us/step\n",
            "Gen loss at epoch 13: 1.962916374206543\n",
            "Disc loss at epoch 13: 0.834362804889679\n",
            "\n"
          ]
        },
        {
          "data": {
            "image/png": "[encoded data removed]",
            "text/plain": [
              "<Figure size 432x288 with 1 Axes>"
            ]
          },
          "metadata": {},
          "output_type": "display_data"
        },
        {
          "name": "stdout",
          "output_type": "stream",
          "text": [
            "60000/60000 [==============================] - 13s 225us/step\n",
            "Gen loss at epoch 14: 1.952149510383606\n",
            "Disc loss at epoch 14: 0.8342067003250122\n",
            "\n"
          ]
        },
        {
          "data": {
            "image/png": "[encoded data removed]",
            "text/plain": [
              "<Figure size 432x288 with 1 Axes>"
            ]
          },
          "metadata": {},
          "output_type": "display_data"
        },
        {
          "name": "stdout",
          "output_type": "stream",
          "text": [
            "60000/60000 [==============================] - 13s 225us/step\n",
            "Gen loss at epoch 15: 2.1311707496643066\n",
            "Disc loss at epoch 15: 0.752926230430603\n",
            "\n"
          ]
        },
        {
          "data": {
            "image/png": "[encoded data removed]",
            "text/plain": [
              "<Figure size 432x288 with 1 Axes>"
            ]
          },
          "metadata": {},
          "output_type": "display_data"
        },
        {
          "name": "stdout",
          "output_type": "stream",
          "text": [
            "60000/60000 [==============================] - 14s 225us/step\n",
            "Gen loss at epoch 16: 2.0377323627471924\n",
            "Disc loss at epoch 16: 0.7928034067153931\n",
            "\n"
          ]
        },
        {
          "data": {
            "image/png": "[encoded data removed]",
            "text/plain": [
              "<Figure size 432x288 with 1 Axes>"
            ]
          },
          "metadata": {},
          "output_type": "display_data"
        },
        {
          "name": "stdout",
          "output_type": "stream",
          "text": [
            "60000/60000 [==============================] - 13s 224us/step\n",
            "Gen loss at epoch 17: 2.0482256412506104\n",
            "Disc loss at epoch 17: 0.8304378986358643\n",
            "\n"
          ]
        },
        {
          "data": {
            "image/png": "[encoded data removed]",
            "text/plain": [
              "<Figure size 432x288 with 1 Axes>"
            ]
          },
          "metadata": {},
          "output_type": "display_data"
        },
        {
          "name": "stdout",
          "output_type": "stream",
          "text": [
            "60000/60000 [==============================] - 14s 226us/step\n",
            "Gen loss at epoch 18: 2.200329542160034\n",
            "Disc loss at epoch 18: 0.767436146736145\n",
            "\n"
          ]
        },
        {
          "data": {
            "image/png": "[encoded data removed]",
            "text/plain": [
              "<Figure size 432x288 with 1 Axes>"
            ]
          },
          "metadata": {},
          "output_type": "display_data"
        },
        {
          "name": "stdout",
          "output_type": "stream",
          "text": [
            "60000/60000 [==============================] - 14s 226us/step\n",
            "Gen loss at epoch 19: 2.1700055599212646\n",
            "Disc loss at epoch 19: 0.7500342726707458\n",
            "\n"
          ]
        },
        {
          "data": {
            "image/png": "[encoded data removed]",
            "text/plain": [
              "<Figure size 432x288 with 1 Axes>"
            ]
          },
          "metadata": {},
          "output_type": "display_data"
        },
        {
          "name": "stdout",
          "output_type": "stream",
          "text": [
            "60000/60000 [==============================] - 14s 227us/step\n",
            "Gen loss at epoch 20: 2.1141223907470703\n",
            "Disc loss at epoch 20: 0.7860540151596069\n",
            "\n"
          ]
        },
        {
          "data": {
            "image/png": "[encoded data removed]",
            "text/plain": [
              "<Figure size 432x288 with 1 Axes>"
            ]
          },
          "metadata": {},
          "output_type": "display_data"
        },
        {
          "data": {
            "image/png": "[encoded data removed]",
            "text/plain": [
              "<Figure size 432x288 with 1 Axes>"
            ]
          },
          "metadata": {},
          "output_type": "display_data"
        }
      ],
      "source": [
        "# main loop\n",
        "for epoch in range(epochs):\n",
        "\n",
        "    pb_i = Progbar(len(train_dataset)*batch_size)\n",
        "\n",
        "    # train loop\n",
        "    for input in train_dataset:\n",
        "        \n",
        "        # train\n",
        "        gen_loss, disc_loss = model.train_step(input)\n",
        "\n",
        "        # save loss\n",
        "        loss_metric_gen.update_state(values=gen_loss)\n",
        "        loss_metric_disc.update_state(values=disc_loss)\n",
        "        \n",
        "        # update progbar\n",
        "        pb_i.add(batch_size)\n",
        "\n",
        "    print(f\"Gen loss at epoch {epoch+1}: {loss_metric_gen.result()}\")\n",
        "    print(f\"Disc loss at epoch {epoch+1}: {loss_metric_disc.result()}\\n\")\n",
        "\n",
        "    # logging metrics\n",
        "    with gen_summary_writer.as_default():\n",
        "        tf.summary.scalar(f\"{loss_metric_gen.name}\", loss_metric_gen.result(), step=epoch)\n",
        "\n",
        "    with disc_summary_writer.as_default():\n",
        "        tf.summary.scalar(f\"{loss_metric_disc.name}\", loss_metric_disc.result(), step=epoch)\n",
        "\n",
        "    # show intermediate results\n",
        "    image = model.generator(tf.random.normal((batch_size,ls_size)),training=False)\n",
        "    plt.imshow(image[0].numpy().reshape(28,28)*128+1,cmap=\"gray\")\n",
        "    plt.title(f\"Result at epoch {epoch+1}\")\n",
        "    display.display(plt.gcf())\n",
        "\n",
        "    # reset\n",
        "    loss_metric_gen.reset_states()\n",
        "    loss_metric_disc.reset_states()"
      ]
    },
    {
      "cell_type": "code",
      "execution_count": null,
      "metadata": {
        "id": "VZyk73PCsK-o"
      },
      "outputs": [],
      "source": [
        "%tensorboard --logdir logs/"
      ]
    }
  ],
  "metadata": {
    "accelerator": "GPU",
    "colab": {
      "provenance": [],
      "include_colab_link": true
    },
    "gpuClass": "standard",
    "kernelspec": {
      "display_name": "Python 3",
      "name": "python3"
    },
    "language_info": {
      "name": "python"
    }
  },
  "nbformat": 4,
  "nbformat_minor": 0
}