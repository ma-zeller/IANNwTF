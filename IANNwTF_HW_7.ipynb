{
  "nbformat": 4,
  "nbformat_minor": 0,
  "metadata": {
    "colab": {
      "provenance": [],
      "include_colab_link": true
    },
    "kernelspec": {
      "name": "python3",
      "display_name": "Python 3"
    },
    "language_info": {
      "name": "python"
    },
    "accelerator": "GPU",
    "gpuClass": "standard"
  },
  "cells": [
    {
      "cell_type": "markdown",
      "metadata": {
        "id": "view-in-github",
        "colab_type": "text"
      },
      "source": [
        "<a href=\"https://colab.research.google.com/github/ma-zeller/IANNwTF/blob/main/IANNwTF_HW_7.ipynb\" target=\"_parent\"><img src=\"https://colab.research.google.com/assets/colab-badge.svg\" alt=\"Open In Colab\"/></a>"
      ]
    },
    {
      "cell_type": "code",
      "execution_count": null,
      "metadata": {
        "id": "ZtSksa0QgRa2"
      },
      "outputs": [],
      "source": [
        "import tensorflow as tf\n",
        "import tensorflow_datasets as tfds   \n",
        "from tensorflow.keras import layers\n",
        "from tensorflow.keras.utils import Progbar\n",
        "from copy import deepcopy\n",
        "from matplotlib import pyplot as plt\n",
        "import numpy as np\n",
        "import math\n",
        "import datetime\n",
        "from tqdm import tqdm\n",
        "\n",
        "%load_ext tensorboard"
      ]
    },
    {
      "cell_type": "code",
      "source": [
        "( train_ds , test_ds ), ds_info = tfds.load(\"MNIST\", split =[ \"train\", \"test\"], as_supervised =True , with_info = True)"
      ],
      "metadata": {
        "id": "Av15jFHxiCrX"
      },
      "execution_count": null,
      "outputs": []
    },
    {
      "cell_type": "code",
      "source": [
        "# Define hyperparamaters\n",
        "epochs = 20\n",
        "batch_size = 64\n",
        "lr = 1e-3\n",
        "droprate = 0.25\n",
        "optimizer = tf.keras.optimizers.SGD(learning_rate=lr,momentum=0.9)\n",
        "optimizer = tf.keras.optimizers.Adam(learning_rate=lr)\n",
        "loss = tf.keras.losses.MeanSquaredError()\n",
        "\n",
        "# Architecture\n",
        "sequence_length = 4\n",
        "CNN_output_size = 50"
      ],
      "metadata": {
        "id": "X2Ngq4g1ijWU"
      },
      "execution_count": null,
      "outputs": []
    },
    {
      "cell_type": "code",
      "source": [
        "# create sequences from dataset\n",
        "\n",
        "def new_target_fnc(ds, sequence_len):\n",
        "  \"\"\"\n",
        "  Creates list of new targets by alternately adding and subtracting\n",
        "  The first digit is added, the second subtracted, the third added, etc\n",
        "  Parameters\n",
        "  ----------\n",
        "  ds : TensorFlowDataset\n",
        "  original mnist dataset containg images and targets as a tuple.\n",
        "  sequence_len : int\n",
        "  indicates at which point the sum has to reset for the new sequence\n",
        "  Returns\n",
        "  -------\n",
        "  l : list\n",
        "  list containing the new targets\n",
        "  \"\"\"\n",
        "  l = list()\n",
        "  for i, elem in tqdm(enumerate(ds)):\n",
        "    if (i % sequence_len) == 0:\n",
        "      l.append(int(elem[1]))\n",
        "    else:\n",
        "      if (i % 2) == 0:\n",
        "        l.append(int(l[i-1] + elem[1]))\n",
        "      else:\n",
        "        l.append(int(l[i-1] - elem[1]))\n",
        "  return l"
      ],
      "metadata": {
        "id": "FkdofWbhyIRY"
      },
      "execution_count": null,
      "outputs": []
    },
    {
      "cell_type": "code",
      "source": [
        "# get new targets and images\n",
        "train_target_list = new_target_fnc(train_ds,sequence_length)\n",
        "test_target_list = new_target_fnc(test_ds,sequence_length)\n",
        "\n",
        "#print(train_ds)\n",
        "#print(train_target_list)\n",
        "\n",
        "# create ds and zip\n",
        "train_target_ds = tf.data.Dataset.from_tensor_slices(train_target_list)\n",
        "test_target_ds = tf.data.Dataset.from_tensor_slices(test_target_list)\n",
        "train_ds = tf.data.Dataset.zip((train_ds, train_target_ds))\n",
        "test_ds = tf.data.Dataset.zip((test_ds, test_target_ds))"
      ],
      "metadata": {
        "colab": {
          "base_uri": "https://localhost:8080/"
        },
        "id": "xsqdDUpr1E1t",
        "outputId": "98eac9ae-55eb-459e-efd4-1cdead75c574"
      },
      "execution_count": null,
      "outputs": [
        {
          "output_type": "stream",
          "name": "stderr",
          "text": [
            "60000it [00:35, 1709.30it/s]\n",
            "10000it [00:05, 1747.34it/s]\n"
          ]
        }
      ]
    },
    {
      "cell_type": "code",
      "source": [
        "def ds_preprocess(mnist):\n",
        "\n",
        "    # replace data\n",
        "    mnist = mnist.map(lambda img, target: (img[0], target))\n",
        "    \n",
        "    # cast\n",
        "    mnist = mnist.map(lambda img, target: (tf.cast(img,tf.float32), target))\n",
        "    \n",
        "    # normalize images to zero mean and variance of 1\n",
        "    mnist = mnist.map(lambda img, target: (tf.image.per_image_standardization(img), target))\n",
        "\n",
        "    # batch once for sequences\n",
        "    mnist = mnist.batch(sequence_length)\n",
        "    \n",
        "    # shuffle\n",
        "    mnist = mnist.shuffle(10000)\n",
        "\n",
        "    # batch\n",
        "    mnist = mnist.batch(batch_size)\n",
        "\n",
        "    # prefetch\n",
        "    mnist = mnist.prefetch(tf.data.AUTOTUNE)\n",
        "    \n",
        "    return mnist"
      ],
      "metadata": {
        "id": "0OjHYHf7bgcK"
      },
      "execution_count": null,
      "outputs": []
    },
    {
      "cell_type": "code",
      "source": [
        "# apply perprocessing step 2\n",
        "train_dataset_windowed = train_ds.apply(ds_preprocess)\n",
        "test_dataset_windowed = test_ds.apply(ds_preprocess)\n",
        "\n",
        "print(f\"Number training batches: {len(train_dataset_windowed)}\")\n",
        "print(f\"Number test batches: {len(test_dataset_windowed)}\")"
      ],
      "metadata": {
        "id": "CdGMn8YGjH6t",
        "colab": {
          "base_uri": "https://localhost:8080/"
        },
        "outputId": "5bbaef5c-0d6b-4ebf-8742-aa4b34f960be"
      },
      "execution_count": null,
      "outputs": [
        {
          "output_type": "stream",
          "name": "stdout",
          "text": [
            "Number training batches: 235\n",
            "Number test batches: 40\n"
          ]
        }
      ]
    },
    {
      "cell_type": "code",
      "source": [
        "# Show Train examples\n",
        "\n",
        "fig = plt.figure(figsize=(8, 8))\n",
        "columns = 4\n",
        "rows = 2\n",
        "\n",
        "for i, (img_batch, target_batch) in enumerate(train_dataset_windowed):\n",
        "\n",
        "    for k in range(batch_size):\n",
        "        \n",
        "        if k == 2:\n",
        "          break\n",
        "\n",
        "        for j in range(sequence_length):\n",
        "\n",
        "            if k == 0:\n",
        "\n",
        "                fig.add_subplot(rows, columns, j+1)\n",
        "\n",
        "                plt.imshow(img_batch[k][j].numpy().reshape((28,28)))\n",
        "                plt.title(target_batch[k][j].numpy())\n",
        "\n",
        "            if k == 1:\n",
        "\n",
        "                fig.add_subplot(rows, columns, j+1+4)\n",
        "                plt.imshow(img_batch[k][j].numpy().reshape((28,28)))\n",
        "                plt.title(target_batch[k][j].numpy())\n",
        "\n",
        "    break\n",
        "\n",
        "fig.suptitle(\"Training dataset\")\n",
        "\n",
        "# Show Test examples\n",
        "\n",
        "fig = plt.figure(figsize=(8, 8))\n",
        "columns = 4\n",
        "rows = 2\n",
        "\n",
        "for i, (img_batch, target_batch) in enumerate(test_dataset_windowed):\n",
        "\n",
        "    for k in range(batch_size):\n",
        "\n",
        "        if k == 2:\n",
        "          break\n",
        "\n",
        "        for j in range(sequence_length):\n",
        "\n",
        "            if k == 0:\n",
        "\n",
        "                fig.add_subplot(rows, columns, j+1)\n",
        "\n",
        "                plt.imshow(img_batch[k][j].numpy().reshape((28,28)))\n",
        "                plt.title(target_batch[k][j].numpy())\n",
        "\n",
        "            if k == 1:\n",
        "\n",
        "                fig.add_subplot(rows, columns, j+1+4)\n",
        "                plt.imshow(img_batch[k][j].numpy().reshape((28,28)))\n",
        "                plt.title(target_batch[k][j].numpy())\n",
        "\n",
        "    break\n",
        "\n",
        "fig.suptitle(\"Test dataset\")"
      ],
      "metadata": {
        "colab": {
          "base_uri": "https://localhost:8080/",
          "height": 980
        },
        "id": "TG-XmhAu5f5x",
        "outputId": "4974a509-0cd7-4a2d-f474-21f3eccbb72b"
      },
      "execution_count": null,
      "outputs": [
        {
          "output_type": "execute_result",
          "data": {
            "text/plain": [
              "Text(0.5, 0.98, 'Test dataset')"
            ]
          },
          "metadata": {},
          "execution_count": 8
        },
        {
          "output_type": "display_data",
          "data": {
            "text/plain": [
              "<Figure size 576x576 with 8 Axes>"
            ],
            "image/png": "[encoded data removed]"
          },
          "metadata": {
            "needs_background": "light"
          }
        },
        {
          "output_type": "display_data",
          "data": {
            "text/plain": [
              "<Figure size 576x576 with 8 Axes>"
            ],
            "image/png": "[encoded data removed]"
          },
          "metadata": {
            "needs_background": "light"
          }
        }
      ]
    },
    {
      "cell_type": "code",
      "source": [
        "# class ResConvBlock(tf.keras.layers.Layer):\n",
        "#     def __init__(self,depth,layer_count):\n",
        "#         super(ResConvBlock,self).__init__()\n",
        "\n",
        "#         k_in = tf.keras.initializers.RandomNormal(mean=0.0, stddev=0.05, seed=None)\n",
        "\n",
        "#         self.entry_layer = tf.keras.layers.Conv2D(filters=depth,kernel_size=3,kernel_initializer=k_in,padding=\"same\",activation=\"relu\")\n",
        "#         self.layers = [tf.keras.layers.Conv2D(filters=depth,kernel_size=3,kernel_initializer=k_in,padding=\"same\",activation=\"relu\") for _ in range(layer_count)]\n",
        "\n",
        "#         self.bottleneck =tf.keras.layers.Conv2D(filters=depth,kernel_size=1,kernel_initializer=k_in,padding=\"same\",activation=\"relu\")\n",
        "\n",
        "#     @tf.function\n",
        "#     def call(self,x):\n",
        "\n",
        "#         x = self.entry_layer(x)\n",
        "\n",
        "#         for layer in self.layers:\n",
        "#             c = self.bottleneck(x)\n",
        "#             c = layer(c)\n",
        "#             x += c\n",
        "\n",
        "#         return x\n",
        "\n",
        "# class LSTMCell(tf.keras.layers.AbstractRNNCell):\n",
        "\n",
        "#     def __init__(self, recurrent_unit, **kwargs):\n",
        "#         super().__init__(**kwargs)\n",
        "\n",
        "#         self.h_state_size = recurrent_unit\n",
        "                \n",
        "#         # forget gate\n",
        "#         self.linear_forget = tf.keras.layers.Dense(self.h_state_size, \n",
        "#                                                        kernel_initializer= tf.keras.initializers.Orthogonal(\n",
        "#                                                            gain=1.0, seed=None),\n",
        "#                                                        activation=\"sigmoid\",use_bias=True)\n",
        "#         # input gate\n",
        "#         self.linear_input = tf.keras.layers.Dense(self.h_state_size, \n",
        "#                                                        kernel_initializer= tf.keras.initializers.Orthogonal(\n",
        "#                                                            gain=1.0, seed=None),\n",
        "#                                                        activation=\"sigmoid\",use_bias=True)\n",
        "\n",
        "#         # candidates\n",
        "#         self.linear_candidate = tf.keras.layers.Dense(self.h_state_size, \n",
        "#                                                        kernel_initializer= tf.keras.initializers.Orthogonal(\n",
        "#                                                            gain=1.0, seed=None),\n",
        "#                                                        activation=\"tanh\",use_bias=True)\n",
        "\n",
        "#         # out gate\n",
        "#         self.linear_output = tf.keras.layers.Dense(self.h_state_size, \n",
        "#                                                        kernel_initializer= tf.keras.initializers.Orthogonal(\n",
        "#                                                            gain=1.0, seed=None),\n",
        "#                                                        activation=\"sigmoid\",use_bias=True)\n",
        "    \n",
        "#     @property\n",
        "#     def state_size(self):\n",
        "#         return [tf.TensorShape([self.h_state_size]), \n",
        "#                 tf.TensorShape([self.h_state_size])]\n",
        "#     @property\n",
        "#     def output_size(self):\n",
        "#         return [tf.TensorShape([self.h_state_size])]\n",
        "    \n",
        "#     def get_initial_state(self, inputs=None, batch_size=64, dtype=None):\n",
        "#         return [tf.zeros([batch_size,self.h_state_size]), \n",
        "#                 tf.zeros([batch_size,self.h_state_size])]\n",
        "\n",
        "#     def call(self, inputs, states):\n",
        "\n",
        "#         # unpack the states\n",
        "#         hidden_state = states[0]\n",
        "#         cell_state = states[1]\n",
        "\n",
        "#         # concatinate input to hidden state\n",
        "#         h_i = tf.concat([inputs,hidden_state],axis=1)\n",
        "\n",
        "#         # Step 1: forget gat\n",
        "#         f = self.linear_forget(h_i)\n",
        "\n",
        "#         # Step 2: input gate\n",
        "#         i = self.linear_input(h_i)\n",
        "\n",
        "#         # Step 3: cell state candidates\n",
        "#         cs_c = self.linear_candidate(h_i)\n",
        "\n",
        "#         # Step  4: updating the cell state\n",
        "#         cs_next = f * cell_state + i * cs_c\n",
        "\n",
        "#         # Step 5: output gate\n",
        "#         o = self.linear_output(h_i)\n",
        "\n",
        "#         # Step 6: calculate next hidden state\n",
        "#         h_next = o * tf.keras.activations.tanh(cs_next)\n",
        "\n",
        "#         return h_next, [h_next, cs_next]\n",
        "    \n",
        "#     def get_config(self):\n",
        "#         return {\"Hidden_State\": self.hidden_state, \n",
        "#                 \"Cell_State\": self.cell_state}\n",
        "\n",
        "\n",
        "# class CNN_LSTM_Model(tf.keras.Model):\n",
        "#     def __init__(self):\n",
        "#         super().__init__()\n",
        "\n",
        "#         # Residual Block 1\n",
        "#         self.r_b_1 = ResConvBlock(24,4)\n",
        "#         self.bn_1 = tf.keras.layers.BatchNormalization()\n",
        "#         self.pool_1 = tf.keras.layers.TimeDistributed(tf.keras.layers.MaxPooling2D(pool_size=2,strides=2))\n",
        "#         self.do_1 = tf.keras.layers.Dropout(droprate)\n",
        "\n",
        "#         # Residual Block 2\n",
        "#         self.r_b_2 = ResConvBlock(24,4)\n",
        "#         self.bn_2 = tf.keras.layers.BatchNormalization()\n",
        "#         self.pool_2 = tf.keras.layers.TimeDistributed(tf.keras.layers.MaxPooling2D(pool_size=2,strides=2))\n",
        "#         self.do_2 = tf.keras.layers.Dropout(droprate)\n",
        "\n",
        "#         # Residual Block 3\n",
        "#         self.r_b_3 = ResConvBlock(24,4)\n",
        "#         self.bn_3 = tf.keras.layers.BatchNormalization()\n",
        "#         self.glob_pool = tf.keras.layers.TimeDistributed(tf.keras.layers.GlobalAvgPool2D())\n",
        "#         self.do_3 = tf.keras.layers.Dropout(droprate)\n",
        "\n",
        "#         # Fully connected layer\n",
        "#         self.fc1 = tf.keras.layers.Dense(500,activation=None)\n",
        "#         self.bn_4 = tf.keras.layers.BatchNormalization()\n",
        "#         self.act = tf.keras.layers.ReLU()\n",
        "#         self.do_4 = tf.keras.layers.Dropout(droprate)\n",
        "\n",
        "#         # Output\n",
        "#         self.out = tf.keras.layers.Dense(CNN_output_size,activation=None)\n",
        "        \n",
        "#         # LSTM cell\n",
        "#         self.lstm_cell = LSTMCell(CNN_output_size)\n",
        "        \n",
        "#         # return_sequences collects and returns the output of the rnn_cell for all time-steps\n",
        "#         self.lstm_layer = tf.keras.layers.RNN(self.lstm_cell, return_sequences=True)\n",
        "        \n",
        "#         self.output_layer = tf.keras.layers.Dense(1, activation=None)\n",
        "        \n",
        "#         self.metrics_list = [tf.keras.metrics.Mean(name=\"loss\"),\n",
        "#                              tf.keras.metrics.BinaryAccuracy()]\n",
        "    \n",
        "#     @property\n",
        "#     def metrics(self):\n",
        "#         return self.metrics_list\n",
        "    \n",
        "#     def reset_metrics(self):\n",
        "#         for metric in self.metrics:\n",
        "#             metric.reset_state()\n",
        "        \n",
        "#     def call(self, sequence, training=False):\n",
        "\n",
        "#         # CNN\n",
        "#         x = self.r_b_1(sequence)\n",
        "#         x = self.bn_1(x)\n",
        "#         x = self.pool_1(x)\n",
        "#         x = self.do_1(x)\n",
        "#         x = self.r_b_2(x)\n",
        "#         x = self.bn_2(x)\n",
        "#         x = self.pool_2(x)\n",
        "#         x = self.do_2(x)\n",
        "#         x = self.r_b_3(x)\n",
        "#         x = self.bn_3(x)\n",
        "#         x = self.glob_pool(x)\n",
        "#         x = self.do_3(x)\n",
        "#         x = self.fc1(x)\n",
        "#         x = self.bn_4(x)\n",
        "#         x = self.act(x)\n",
        "#         x = self.do_4(x)\n",
        "#         cnn_output = self.out(x)\n",
        "\n",
        "#         # LSTM\n",
        "#         lstm_output = self.lstm_layer(cnn_output)\n",
        "        \n",
        "#         return self.output_layer(lstm_output)\n",
        "    \n",
        "#     def train_step(self, data):\n",
        "        \n",
        "#         \"\"\"\n",
        "#         Standard train_step method, assuming we use model.compile(optimizer, loss, ...)\n",
        "#         \"\"\"\n",
        "        \n",
        "#         sequence, label = data\n",
        "#         with tf.GradientTape() as tape:\n",
        "#             output = self(sequence, training=True)\n",
        "#             loss = self.compiled_loss(label, output, regularization_losses=self.losses)\n",
        "#         gradients = tape.gradient(loss, self.trainable_variables)\n",
        "        \n",
        "#         self.optimizer.apply_gradients(zip(gradients, self.trainable_variables))\n",
        "        \n",
        "#         self.metrics[0].update_state(loss)\n",
        "#         self.metrics[1].update_state(label, output)\n",
        "        \n",
        "#         return {m.name : m.result() for m in self.metrics}\n",
        "    \n",
        "#     def test_step(self, data):\n",
        "        \n",
        "#         \"\"\"\n",
        "#         Standard test_step method, assuming we use model.compile(optimizer, loss, ...)\n",
        "#         \"\"\"\n",
        "        \n",
        "#         sequence, label = data\n",
        "#         output = self(sequence, training=False)\n",
        "#         loss = self.compiled_loss(label, output, regularization_losses=self.losses)\n",
        "                \n",
        "#         self.metrics[0].update_state(loss)\n",
        "#         self.metrics[1].update_state(label, output)\n",
        "        \n",
        "#         return {m.name : m.result() for m in self.metrics}\n"
      ],
      "metadata": {
        "id": "Wwv-6AaWSxqo"
      },
      "execution_count": null,
      "outputs": []
    },
    {
      "cell_type": "code",
      "source": [
        "class ResConvBlock(tf.keras.layers.Layer):\n",
        "    def __init__(self,depth,layer_count):\n",
        "        super(ResConvBlock,self).__init__()\n",
        "\n",
        "        k_in = tf.keras.initializers.RandomNormal(mean=0.0, stddev=0.05, seed=None)\n",
        "\n",
        "        self.entry_layer = tf.keras.layers.Conv2D(filters=depth,kernel_size=3,kernel_initializer=k_in,padding=\"same\",activation=\"relu\")\n",
        "        self.layers = [tf.keras.layers.Conv2D(filters=depth,kernel_size=3,kernel_initializer=k_in,padding=\"same\",activation=\"relu\") for _ in range(layer_count)]\n",
        "\n",
        "        self.bottleneck =tf.keras.layers.Conv2D(filters=depth,kernel_size=1,kernel_initializer=k_in,padding=\"same\",activation=\"relu\")\n",
        "\n",
        "    @tf.function\n",
        "    def call(self,x):\n",
        "\n",
        "        x = self.entry_layer(x)\n",
        "\n",
        "        for layer in self.layers:\n",
        "            c = self.bottleneck(x)\n",
        "            c = layer(c)\n",
        "            x += c\n",
        "\n",
        "        return x\n",
        "\n",
        "class ConvNet(tf.keras.Model):\n",
        "    def __init__(self):\n",
        "        super(ConvNet,self).__init__()\n",
        "\n",
        "        # Residual Block 1\n",
        "        self.r_b_1 = ResConvBlock(24,4)\n",
        "        self.bn_1 = tf.keras.layers.BatchNormalization()\n",
        "        self.pool_1 = tf.keras.layers.TimeDistributed(tf.keras.layers.MaxPooling2D(pool_size=2,strides=2))\n",
        "        self.do_1 = tf.keras.layers.Dropout(droprate)\n",
        "\n",
        "        # Residual Block 2\n",
        "        self.r_b_2 = ResConvBlock(24,4)\n",
        "        self.bn_2 = tf.keras.layers.BatchNormalization()\n",
        "        self.pool_2 = tf.keras.layers.TimeDistributed(tf.keras.layers.MaxPooling2D(pool_size=2,strides=2))\n",
        "        self.do_2 = tf.keras.layers.Dropout(droprate)\n",
        "\n",
        "        # Residual Block 3\n",
        "        self.r_b_3 = ResConvBlock(24,4)\n",
        "        self.bn_3 = tf.keras.layers.BatchNormalization()\n",
        "        self.glob_pool = tf.keras.layers.TimeDistributed(tf.keras.layers.GlobalAvgPool2D())\n",
        "        self.do_3 = tf.keras.layers.Dropout(droprate)\n",
        "\n",
        "        # Fully connected layer\n",
        "        self.fc1 = tf.keras.layers.Dense(500,activation=None)\n",
        "        self.bn_4 = tf.keras.layers.BatchNormalization()\n",
        "        self.act = tf.keras.layers.ReLU()\n",
        "        self.do_4 = tf.keras.layers.Dropout(droprate)\n",
        "\n",
        "        # Output\n",
        "        self.out = tf.keras.layers.Dense(CNN_output_size,activation=None)\n",
        "\n",
        "    @tf.function\n",
        "    def call(self,x):\n",
        "\n",
        "        x = self.r_b_1(x)\n",
        "        x = self.bn_1(x)\n",
        "        x = self.pool_1(x)\n",
        "        x = self.do_1(x)\n",
        "        x = self.r_b_2(x)\n",
        "        x = self.bn_2(x)\n",
        "        x = self.pool_2(x)\n",
        "        x = self.do_2(x)\n",
        "        x = self.r_b_3(x)\n",
        "        x = self.bn_3(x)\n",
        "        x = self.glob_pool(x)\n",
        "        x = self.do_3(x)\n",
        "        x = self.fc1(x)\n",
        "        x = self.bn_4(x)\n",
        "        x = self.act(x)\n",
        "        x = self.do_4(x)\n",
        "        x = self.out(x)\n",
        "\n",
        "        return x\n",
        "\n",
        "class LSTMCell(tf.keras.layers.AbstractRNNCell):\n",
        "\n",
        "    def __init__(self, recurrent_unit, **kwargs):\n",
        "        super().__init__(**kwargs)\n",
        "\n",
        "        self.h_state_size = recurrent_unit\n",
        "                \n",
        "        # forget gate\n",
        "        self.linear_forget = tf.keras.layers.Dense(self.h_state_size, \n",
        "                                                       kernel_initializer= tf.keras.initializers.Orthogonal(\n",
        "                                                           gain=1.0, seed=None),\n",
        "                                                       activation=\"sigmoid\",use_bias=True)\n",
        "        # input gate\n",
        "        self.linear_input = tf.keras.layers.Dense(self.h_state_size, \n",
        "                                                       kernel_initializer= tf.keras.initializers.Orthogonal(\n",
        "                                                           gain=1.0, seed=None),\n",
        "                                                       activation=\"sigmoid\",use_bias=True)\n",
        "\n",
        "        # candidates\n",
        "        self.linear_candidate = tf.keras.layers.Dense(self.h_state_size, \n",
        "                                                       kernel_initializer= tf.keras.initializers.Orthogonal(\n",
        "                                                           gain=1.0, seed=None),\n",
        "                                                       activation=\"tanh\",use_bias=True)\n",
        "\n",
        "        # out gate\n",
        "        self.linear_output = tf.keras.layers.Dense(self.h_state_size, \n",
        "                                                       kernel_initializer= tf.keras.initializers.Orthogonal(\n",
        "                                                           gain=1.0, seed=None),\n",
        "                                                       activation=\"sigmoid\",use_bias=True)\n",
        "    \n",
        "    @property\n",
        "    def state_size(self):\n",
        "        return [tf.TensorShape([self.h_state_size]), \n",
        "                tf.TensorShape([self.h_state_size])]\n",
        "    @property\n",
        "    def output_size(self):\n",
        "        return [tf.TensorShape([self.h_state_size])]\n",
        "    \n",
        "    def get_initial_state(self, inputs=None, batch_size=64, dtype=None):\n",
        "        return [tf.zeros([batch_size,self.h_state_size]), \n",
        "                tf.zeros([batch_size,self.h_state_size])]\n",
        "\n",
        "    def call(self, inputs, states):\n",
        "\n",
        "        # unpack the states\n",
        "        hidden_state = states[0]\n",
        "        cell_state = states[1]\n",
        "\n",
        "        # concatinate input to hidden state\n",
        "        h_i = tf.concat([inputs,hidden_state],axis=1)\n",
        "\n",
        "        # Step 1: forget gat\n",
        "        f = self.linear_forget(h_i)\n",
        "\n",
        "        # Step 2: input gate\n",
        "        i = self.linear_input(h_i)\n",
        "\n",
        "        # Step 3: cell state candidates\n",
        "        cs_c = self.linear_candidate(h_i)\n",
        "\n",
        "        # Step  4: updating the cell state\n",
        "        cs_next = f * cell_state + i * cs_c\n",
        "\n",
        "        # Step 5: output gate\n",
        "        o = self.linear_output(h_i)\n",
        "\n",
        "        # Step 6: calculate next hidden state\n",
        "        h_next = o * tf.keras.activations.tanh(cs_next)\n",
        "\n",
        "        return h_next, [h_next, cs_next]\n",
        "    \n",
        "    def get_config(self):\n",
        "        return {\"Hidden_State\": self.hidden_state, \n",
        "                \"Cell_State\": self.cell_state}\n",
        "\n",
        "\n",
        "class CNN_LSTM_Model(tf.keras.Model):\n",
        "    def __init__(self):\n",
        "        super().__init__()\n",
        "\n",
        "        self.CNN = ConvNet()\n",
        "        \n",
        "        self.lstm_cell = LSTMCell(CNN_output_size)\n",
        "        \n",
        "        # return_sequences collects and returns the output of the rnn_cell for all time-steps\n",
        "        self.lstm_layer = tf.keras.layers.RNN(self.lstm_cell, return_sequences=True)\n",
        "        \n",
        "        self.output_layer = tf.keras.layers.Dense(1, activation=None)\n",
        "        \n",
        "        self.metrics_list = [tf.keras.metrics.Mean(name=\"loss\"),\n",
        "                             tf.keras.metrics.BinaryAccuracy()]\n",
        "    \n",
        "    @property\n",
        "    def metrics(self):\n",
        "        return self.metrics_list\n",
        "    \n",
        "    def reset_metrics(self):\n",
        "        for metric in self.metrics:\n",
        "            metric.reset_state()\n",
        "        \n",
        "    def call(self, sequence, training=False):\n",
        "\n",
        "        cnn_output = self.CNN(sequence)\n",
        "        \n",
        "        lstm_output = self.lstm_layer(cnn_output)\n",
        "        \n",
        "        return self.output_layer(lstm_output)\n",
        "    \n",
        "    def train_step(self, data):\n",
        "        \n",
        "        \"\"\"\n",
        "        Standard train_step method, assuming we use model.compile(optimizer, loss, ...)\n",
        "        \"\"\"\n",
        "        \n",
        "        sequence, label = data\n",
        "        with tf.GradientTape() as tape:\n",
        "            output = self(sequence, training=True)\n",
        "            loss = self.compiled_loss(label, output, regularization_losses=self.losses)\n",
        "        gradients = tape.gradient(loss, self.trainable_variables)\n",
        "        \n",
        "        self.optimizer.apply_gradients(zip(gradients, self.trainable_variables))\n",
        "        \n",
        "        self.metrics[0].update_state(loss)\n",
        "        self.metrics[1].update_state(label, output)\n",
        "        \n",
        "        return {m.name : m.result() for m in self.metrics}\n",
        "    \n",
        "    def test_step(self, data):\n",
        "        \n",
        "        \"\"\"\n",
        "        Standard test_step method, assuming we use model.compile(optimizer, loss, ...)\n",
        "        \"\"\"\n",
        "        \n",
        "        sequence, label = data\n",
        "        output = self(sequence, training=False)\n",
        "        loss = self.compiled_loss(label, output, regularization_losses=self.losses)\n",
        "                \n",
        "        self.metrics[0].update_state(loss)\n",
        "        self.metrics[1].update_state(label, output)\n",
        "        \n",
        "        return {m.name : m.result() for m in self.metrics}\n"
      ],
      "metadata": {
        "id": "mEn8rg0lm1m3"
      },
      "execution_count": null,
      "outputs": []
    },
    {
      "cell_type": "code",
      "source": [
        "# instantiate model\n",
        "model_cnn_lstm = CNN_LSTM_Model()\n",
        "\n",
        "# compile the model\n",
        "model_cnn_lstm.compile(optimizer = optimizer, loss=loss)"
      ],
      "metadata": {
        "id": "oX2n93BXrWjN"
      },
      "execution_count": null,
      "outputs": []
    },
    {
      "cell_type": "code",
      "source": [
        "# show summary\n",
        "model_cnn_lstm.build((batch_size,sequence_length,28,28,1))\n",
        "model_cnn_lstm.summary()"
      ],
      "metadata": {
        "colab": {
          "base_uri": "https://localhost:8080/"
        },
        "id": "a-Joe8tQkgFr",
        "outputId": "e8f1f965-3c9b-4ab7-a2c9-7570b3039ef2"
      },
      "execution_count": null,
      "outputs": [
        {
          "output_type": "stream",
          "name": "stdout",
          "text": [
            "Model: \"cnn_lstm__model\"\n",
            "_________________________________________________________________\n",
            " Layer (type)                Output Shape              Param #   \n",
            "=================================================================\n",
            " conv_net (ConvNet)          multiple                  114790    \n",
            "                                                                 \n",
            " lstm_cell (LSTMCell)        multiple                  20200     \n",
            "                                                                 \n",
            " rnn (RNN)                   multiple                  20200     \n",
            "                                                                 \n",
            " dense_6 (Dense)             multiple                  51        \n",
            "                                                                 \n",
            "=================================================================\n",
            "Total params: 135,045\n",
            "Trainable params: 133,897\n",
            "Non-trainable params: 1,148\n",
            "_________________________________________________________________\n"
          ]
        }
      ]
    },
    {
      "cell_type": "code",
      "source": [
        "EXPERIMENT_NAME = \"IANN_wTF_HW_7\"\n",
        "current_time = datetime.datetime.now().strftime(\"%Y%m%d-%H%M%S\")\n",
        "logging_callback = tf.keras.callbacks.TensorBoard(log_dir=f\"./logs/{EXPERIMENT_NAME}/{current_time}\")"
      ],
      "metadata": {
        "id": "L_AWmRvIgtGs"
      },
      "execution_count": null,
      "outputs": []
    },
    {
      "cell_type": "code",
      "source": [
        "history = model_cnn_lstm.fit(train_dataset_windowed,\n",
        "                    validation_data=test_dataset_windowed,\n",
        "                    initial_epoch=20,\n",
        "                    epochs=40,\n",
        "                    callbacks=[logging_callback])"
      ],
      "metadata": {
        "colab": {
          "base_uri": "https://localhost:8080/"
        },
        "id": "Wj1s6RjEg3Ch",
        "outputId": "2e53262a-7001-467b-96c3-ad5d488871d9"
      },
      "execution_count": null,
      "outputs": [
        {
          "output_type": "stream",
          "name": "stdout",
          "text": [
            "Epoch 21/40\n",
            "235/235 [==============================] - 35s 84ms/step - loss: 18.6558 - binary_accuracy: 0.0844 - val_loss: 7.2682 - val_binary_accuracy: 0.0928\n",
            "Epoch 22/40\n",
            "235/235 [==============================] - 22s 82ms/step - loss: 4.5432 - binary_accuracy: 0.0936 - val_loss: 2.8667 - val_binary_accuracy: 0.1029\n",
            "Epoch 23/40\n",
            "235/235 [==============================] - 21s 79ms/step - loss: 2.5476 - binary_accuracy: 0.1097 - val_loss: 1.9702 - val_binary_accuracy: 0.1213\n",
            "Epoch 24/40\n",
            "235/235 [==============================] - 22s 83ms/step - loss: 1.7525 - binary_accuracy: 0.1222 - val_loss: 1.4406 - val_binary_accuracy: 0.1328\n",
            "Epoch 25/40\n",
            "235/235 [==============================] - 21s 80ms/step - loss: 1.3907 - binary_accuracy: 0.1290 - val_loss: 1.1782 - val_binary_accuracy: 0.1354\n",
            "Epoch 26/40\n",
            "235/235 [==============================] - 21s 79ms/step - loss: 1.1916 - binary_accuracy: 0.1337 - val_loss: 1.1364 - val_binary_accuracy: 0.1399\n",
            "Epoch 27/40\n",
            "235/235 [==============================] - 21s 80ms/step - loss: 1.0455 - binary_accuracy: 0.1357 - val_loss: 1.0388 - val_binary_accuracy: 0.1430\n",
            "Epoch 28/40\n",
            "235/235 [==============================] - 21s 80ms/step - loss: 0.9688 - binary_accuracy: 0.1381 - val_loss: 1.0090 - val_binary_accuracy: 0.1451\n",
            "Epoch 29/40\n",
            "235/235 [==============================] - 21s 80ms/step - loss: 0.8090 - binary_accuracy: 0.1409 - val_loss: 0.7407 - val_binary_accuracy: 0.1461\n",
            "Epoch 30/40\n",
            "235/235 [==============================] - 21s 80ms/step - loss: 0.7115 - binary_accuracy: 0.1425 - val_loss: 0.9757 - val_binary_accuracy: 0.1448\n",
            "Epoch 31/40\n",
            "235/235 [==============================] - 22s 83ms/step - loss: 0.6704 - binary_accuracy: 0.1443 - val_loss: 0.6982 - val_binary_accuracy: 0.1480\n",
            "Epoch 32/40\n",
            "235/235 [==============================] - 21s 79ms/step - loss: 0.7274 - binary_accuracy: 0.1436 - val_loss: 0.7040 - val_binary_accuracy: 0.1484\n",
            "Epoch 33/40\n",
            "235/235 [==============================] - 21s 79ms/step - loss: 0.6237 - binary_accuracy: 0.1462 - val_loss: 0.5948 - val_binary_accuracy: 0.1534\n",
            "Epoch 34/40\n",
            "235/235 [==============================] - 21s 79ms/step - loss: 0.5717 - binary_accuracy: 0.1472 - val_loss: 0.6483 - val_binary_accuracy: 0.1558\n",
            "Epoch 35/40\n",
            "235/235 [==============================] - 21s 79ms/step - loss: 0.5177 - binary_accuracy: 0.1478 - val_loss: 0.5579 - val_binary_accuracy: 0.1541\n",
            "Epoch 36/40\n",
            "235/235 [==============================] - 22s 81ms/step - loss: 0.4972 - binary_accuracy: 0.1489 - val_loss: 0.6768 - val_binary_accuracy: 0.1531\n",
            "Epoch 37/40\n",
            "235/235 [==============================] - 21s 80ms/step - loss: 0.5151 - binary_accuracy: 0.1491 - val_loss: 0.5699 - val_binary_accuracy: 0.1543\n",
            "Epoch 38/40\n",
            "235/235 [==============================] - 21s 79ms/step - loss: 0.4698 - binary_accuracy: 0.1496 - val_loss: 0.6127 - val_binary_accuracy: 0.1547\n",
            "Epoch 39/40\n",
            "235/235 [==============================] - 21s 78ms/step - loss: 0.4681 - binary_accuracy: 0.1500 - val_loss: 0.5500 - val_binary_accuracy: 0.1565\n",
            "Epoch 40/40\n",
            "235/235 [==============================] - 21s 79ms/step - loss: 0.4399 - binary_accuracy: 0.1509 - val_loss: 0.6201 - val_binary_accuracy: 0.1565\n"
          ]
        }
      ]
    },
    {
      "cell_type": "code",
      "source": [
        "#!kill 11736\n",
        "%tensorboard --logdir logs/"
      ],
      "metadata": {
        "id": "VZyk73PCsK-o",
        "colab": {
          "base_uri": "https://localhost:8080/",
          "height": 839
        },
        "outputId": "abe90b8d-8800-4a5a-a806-3b0e82eed73e"
      },
      "execution_count": 22,
      "outputs": [
        {
          "output_type": "display_data",
          "data": {
            "text/plain": [
              "Reusing TensorBoard on port 6006 (pid 12875), started 0:02:47 ago. (Use '!kill 12875' to kill it.)"
            ]
          },
          "metadata": {}
        },
        {
          "output_type": "display_data",
          "data": {
            "text/plain": [
              "<IPython.core.display.Javascript object>"
            ],
            "application/javascript": [
              "\n",
              "        (async () => {\n",
              "            const url = new URL(await google.colab.kernel.proxyPort(6006, {'cache': true}));\n",
              "            url.searchParams.set('tensorboardColab', 'true');\n",
              "            const iframe = document.createElement('iframe');\n",
              "            iframe.src = url;\n",
              "            iframe.setAttribute('width', '100%');\n",
              "            iframe.setAttribute('height', '800');\n",
              "            iframe.setAttribute('frameborder', 0);\n",
              "            document.body.appendChild(iframe);\n",
              "        })();\n",
              "    "
            ]
          },
          "metadata": {}
        }
      ]
    },
    {
      "cell_type": "code",
      "source": [
        "# Show result\n",
        "\n",
        "fig = plt.figure(figsize=(8, 8))\n",
        "columns = 4\n",
        "rows = 2\n",
        "\n",
        "for i, (img_batch, target_batch) in enumerate(train_dataset_windowed):\n",
        "\n",
        "    predictions = model_cnn_lstm.predict(img_batch)\n",
        "\n",
        "    for k in range(batch_size):\n",
        "        \n",
        "        if k == 2:\n",
        "          break\n",
        "\n",
        "        for j in range(sequence_length):\n",
        "\n",
        "            if k == 0:\n",
        "\n",
        "                fig.add_subplot(rows, columns, j+1)\n",
        "\n",
        "                plt.imshow(img_batch[k][j].numpy().reshape((28,28)))\n",
        "                plt.title(f\"P: {predictions[k][j].astype(int)} T: {target_batch[k][j].numpy()}\")\n",
        "\n",
        "            if k == 1:\n",
        "\n",
        "                fig.add_subplot(rows, columns, j+1+4)\n",
        "                plt.imshow(img_batch[k][j].numpy().reshape((28,28)))\n",
        "                plt.title(f\"P: {predictions[k][j].astype(int)} T: {target_batch[k][j].numpy()}\")\n",
        "    \n",
        "    fig.suptitle(\"Results\")\n",
        "    break"
      ],
      "metadata": {
        "colab": {
          "base_uri": "https://localhost:8080/",
          "height": 507
        },
        "id": "qF8ESnRgdOl0",
        "outputId": "775a1273-2544-4fb0-c15c-5b8ca48169b9"
      },
      "execution_count": null,
      "outputs": [
        {
          "output_type": "stream",
          "name": "stdout",
          "text": [
            "2/2 [==============================] - 1s 18ms/step\n"
          ]
        },
        {
          "output_type": "display_data",
          "data": {
            "text/plain": [
              "<Figure size 576x576 with 8 Axes>"
            ],
            "image/png": "[encoded data removed]"
          },
          "metadata": {
            "needs_background": "light"
          }
        }
      ]
    },
    {
      "cell_type": "markdown",
      "source": [
        "##To DO:\n",
        "\n",
        "Kann ich die zweite variante auch benutzen?\n",
        "Transfer learning?\n",
        "Loss function"
      ],
      "metadata": {
        "id": "bUCuYcF_ktYY"
      }
    }
  ]
}